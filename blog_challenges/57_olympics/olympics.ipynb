{
 "metadata": {
  "language_info": {
   "codemirror_mode": {
    "name": "ipython",
    "version": 3
   },
   "file_extension": ".py",
   "mimetype": "text/x-python",
   "name": "python",
   "nbconvert_exporter": "python",
   "pygments_lexer": "ipython3",
   "version": "3.8.3-final"
  },
  "orig_nbformat": 2,
  "kernelspec": {
   "name": "python_defaultSpec_1599914719775",
   "display_name": "Python 3.8.3 64-bit"
  }
 },
 "nbformat": 4,
 "nbformat_minor": 2,
 "cells": [
  {
   "source": [
    "# Olympic Cycling Medals by Country\n",
    "## 1896-2012\n",
    "### Data from [Kaggle](https://www.kaggle.com/the-guardian/olympic-games)."
   ],
   "cell_type": "markdown",
   "metadata": {}
  },
  {
   "cell_type": "code",
   "execution_count": null,
   "metadata": {},
   "outputs": [],
   "source": [
    "import pandas as pd\n",
    "import plotly.graph_objects as go\n",
    "import plotly.express as px"
   ]
  },
  {
   "source": [
    "First, we want to read in our csv and display the head to make sure everything looks ok."
   ],
   "cell_type": "markdown",
   "metadata": {}
  },
  {
   "cell_type": "code",
   "execution_count": null,
   "metadata": {},
   "outputs": [],
   "source": [
    "SUMMER = pd.read_csv('summer.csv')"
   ]
  },
  {
   "source": [
    "SUMMER.head(10)"
   ],
   "cell_type": "code",
   "metadata": {},
   "execution_count": null,
   "outputs": []
  },
  {
   "source": [
    "Get medal count by country for cycling and sort descending."
   ],
   "cell_type": "markdown",
   "metadata": {}
  },
  {
   "cell_type": "code",
   "execution_count": null,
   "metadata": {},
   "outputs": [],
   "source": [
    "cycling = SUMMER.query('Sport == \"Cycling\"').groupby(['Country'], as_index=False)['Medal'].count().sort_values(by='Medal', ascending=False)"
   ]
  },
  {
   "cell_type": "code",
   "execution_count": null,
   "metadata": {},
   "outputs": [],
   "source": [
    "cycling.head(10)"
   ]
  },
  {
   "source": [
    "Let's put this data on a map!"
   ],
   "cell_type": "markdown",
   "metadata": {}
  },
  {
   "cell_type": "code",
   "execution_count": null,
   "metadata": {},
   "outputs": [],
   "source": [
    "layout = dict(title=dict(text=('Olympic Cycling Medals Awarded by Country '\n",
    "                             '1896-2012'),\n",
    "                             x=0.5,\n",
    "                             ),\n",
    "              geo=dict(countrycolor='#444444',\n",
    "                       showcountries=True,\n",
    "                       oceancolor='deepskyblue',\n",
    "                       showocean=True,\n",
    "                       lakecolor='deepskyblue',\n",
    "                       showlakes=True,\n",
    "                       projection={'type': 'natural earth'},\n",
    "                       )\n",
    "              )"
   ]
  },
  {
   "cell_type": "code",
   "execution_count": null,
   "metadata": {},
   "outputs": [],
   "source": [
    "data = go.Choropleth(locations=cycling['Country'],\n",
    "                     locationmode='ISO-3',\n",
    "                     z=cycling['Medal'],\n",
    "                     colorscale=px.colors.sequential.Oryel)"
   ]
  },
  {
   "cell_type": "code",
   "execution_count": null,
   "metadata": {},
   "outputs": [],
   "source": [
    "fig = go.Figure(data=data, layout=layout)\n",
    "fig.show()"
   ]
  },
  {
   "source": [
    "We can see that this doesn't look quite right. In Europe, Germany and the Netherlands, which are in the Top-10 from our cycling.head(10) selection above, don't reflect any medals on our map. There is an issue with the country codes! Using ISO-3, we need to replace some country codes in order to have them display correctly on our map."
   ],
   "cell_type": "markdown",
   "metadata": {}
  },
  {
   "cell_type": "code",
   "execution_count": null,
   "metadata": {},
   "outputs": [],
   "source": [
    "cycling['Country'] = cycling['Country'].replace(\n",
    "        ['GER', 'NED', 'DEN', 'SUI', 'RSA', 'GRE', 'LAT', 'POR', 'URU'],\n",
    "        ['DEU', 'NLD', 'DNK', 'CHE', 'ZAF', 'GRC', 'LVA', 'PRT', 'URY']\n",
    "        )"
   ]
  },
  {
   "cell_type": "code",
   "execution_count": null,
   "metadata": {},
   "outputs": [],
   "source": [
    "data = go.Choropleth(locations=cycling['Country'],\n",
    "                     locationmode='ISO-3',\n",
    "                     z=cycling['Medal'],\n",
    "                     colorscale=px.colors.sequential.Oryel)"
   ]
  },
  {
   "cell_type": "code",
   "execution_count": null,
   "metadata": {},
   "outputs": [],
   "source": [
    "fig = go.Figure(data=data, layout=layout)\n",
    "fig.show()"
   ]
  },
  {
   "source": [
    "Now, that looks better!\n",
    "\n",
    "In reading the plotly documentation, I discovered the scope arg in layout.geo. This gave me the idea to create a region selector for the final figure, to allow for an easy zoom-in to any continent."
   ],
   "cell_type": "markdown",
   "metadata": {}
  },
  {
   "cell_type": "code",
   "execution_count": null,
   "metadata": {},
   "outputs": [],
   "source": [
    "def region_scopes(region: str):\n",
    "    # Pass to geo for region selection on map.\n",
    "    return dict(countrycolor='#444444',\n",
    "                showcountries=True,\n",
    "                oceancolor='deepskyblue',\n",
    "                showocean=True,\n",
    "                lakecolor='deepskyblue',\n",
    "                showlakes=True,\n",
    "                projection={'type': 'natural earth'},\n",
    "                scope=region,\n",
    "                )"
   ]
  },
  {
   "source": [
    "Add region selector and display figure."
   ],
   "cell_type": "markdown",
   "metadata": {}
  },
  {
   "cell_type": "code",
   "execution_count": null,
   "metadata": {},
   "outputs": [],
   "source": [
    "fig.update_layout(\n",
    "        updatemenus=[\n",
    "            dict(buttons=list([\n",
    "                dict(label='World',\n",
    "                     method='relayout',\n",
    "                     args=['geo', region_scopes('world')]),\n",
    "                dict(label='Africa',\n",
    "                     method='relayout',\n",
    "                     args=['geo', region_scopes('africa')]),\n",
    "                dict(label='Asia',\n",
    "                     method='relayout',\n",
    "                     args=['geo', region_scopes('asia')]),\n",
    "                dict(label='Europe',\n",
    "                     method='relayout',\n",
    "                     args=['geo', region_scopes('europe')]),\n",
    "                dict(label='North America',\n",
    "                     method='relayout',\n",
    "                     args=['geo', region_scopes('north america')]),\n",
    "                dict(label='South America',\n",
    "                     method='relayout',\n",
    "                     args=['geo', region_scopes('south america')])\n",
    "            ]),\n",
    "             x=0.2,\n",
    "             y=1.15,\n",
    "             direction='right'\n",
    "            )\n",
    "        ],\n",
    "    )"
   ]
  },
  {
   "cell_type": "code",
   "execution_count": null,
   "metadata": {},
   "outputs": [],
   "source": []
  }
 ]
}