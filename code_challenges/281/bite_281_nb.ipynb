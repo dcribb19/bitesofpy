{
 "metadata": {
  "language_info": {
   "codemirror_mode": {
    "name": "ipython",
    "version": 3
   },
   "file_extension": ".py",
   "mimetype": "text/x-python",
   "name": "python",
   "nbconvert_exporter": "python",
   "pygments_lexer": "ipython3",
   "version": "3.8.3-final"
  },
  "orig_nbformat": 2,
  "kernelspec": {
   "name": "Python 3.8.3 64-bit ('venv')",
   "display_name": "Python 3.8.3 64-bit ('venv')",
   "metadata": {
    "interpreter": {
     "hash": "9582c651a57e01757941f682816e2d8c79d35feab00e12f84dc96c301bf05aa1"
    }
   }
  }
 },
 "nbformat": 4,
 "nbformat_minor": 2,
 "cells": [
  {
   "cell_type": "code",
   "execution_count": 2,
   "metadata": {},
   "outputs": [],
   "source": [
    "import json\n",
    "import os\n",
    "from pathlib import Path\n",
    "from typing import Dict, List, Union\n",
    "\n",
    "import pandas as pd\n",
    "import requests"
   ]
  },
  {
   "cell_type": "code",
   "execution_count": 3,
   "metadata": {},
   "outputs": [],
   "source": [
    "URL: str = \"https://bites-data.s3.us-east-2.amazonaws.com/MonthlySales.csv\"\n",
    "STATS: List[str] = [\"sum\", \"mean\", \"max\"]\n",
    "TMP: Path = Path(os.getenv(\"TMP\", \"/tmp\")) / \"MonthlySales.csv\""
   ]
  },
  {
   "cell_type": "code",
   "execution_count": 4,
   "metadata": {},
   "outputs": [],
   "source": [
    "def get_data(url: str) -> Dict[str, str]:\n",
    "    \"\"\"Get data from Github\n",
    "\n",
    "    Args:\n",
    "        url (str): The URL where the data is located.\n",
    "\n",
    "    Returns:\n",
    "        Dict[str, str]: The dictionary extracted from the data\n",
    "    \"\"\"\n",
    "    if TMP.exists():\n",
    "        data = json.loads(TMP.read_text())\n",
    "    else:\n",
    "        response = requests.get(url)\n",
    "        response.raise_for_status()\n",
    "        data = json.loads(response.text)\n",
    "        with TMP.open(\"w\") as tmp:\n",
    "            json.dump(data, tmp)\n",
    "    return data"
   ]
  },
  {
   "cell_type": "code",
   "execution_count": 5,
   "metadata": {},
   "outputs": [],
   "source": [
    "def process_data(url: str) -> pd.DataFrame:\n",
    "    \"\"\"Process the data from the Github API\n",
    "\n",
    "    Args:\n",
    "        url (str): The URL where the data is located.\n",
    "\n",
    "    Returns:\n",
    "        pd.DataFrame: Pandas DataFrame generated from the processed data\n",
    "    \"\"\"\n",
    "    data = get_data(url)\n",
    "    return pd.read_csv(data)"
   ]
  },
  {
   "cell_type": "code",
   "execution_count": 6,
   "metadata": {},
   "outputs": [],
   "source": [
    "csv_file = get_data(url=URL)['download_url']"
   ]
  },
  {
   "cell_type": "code",
   "execution_count": 7,
   "metadata": {},
   "outputs": [],
   "source": [
    "df = pd.read_csv(csv_file)"
   ]
  },
  {
   "cell_type": "code",
   "execution_count": 8,
   "metadata": {},
   "outputs": [
    {
     "output_type": "execute_result",
     "data": {
      "text/plain": [
       "Index(['month', 'sales'], dtype='object')"
      ]
     },
     "metadata": {},
     "execution_count": 8
    }
   ],
   "source": [
    "df.columns"
   ]
  },
  {
   "cell_type": "code",
   "execution_count": 9,
   "metadata": {},
   "outputs": [],
   "source": [
    "df['year'] = pd.DatetimeIndex(df['month']).year"
   ]
  },
  {
   "cell_type": "code",
   "execution_count": 10,
   "metadata": {},
   "outputs": [],
   "source": [
    "# Rename month column.\n",
    "df['date'] = df['month']"
   ]
  },
  {
   "cell_type": "code",
   "execution_count": 11,
   "metadata": {},
   "outputs": [],
   "source": [
    "# Change original month column (YYYY-MM-DD) to month only.\n",
    "df['month'] = pd.DatetimeIndex(df['date']).month"
   ]
  },
  {
   "cell_type": "code",
   "execution_count": 12,
   "metadata": {},
   "outputs": [
    {
     "output_type": "execute_result",
     "data": {
      "text/plain": [
       "   month     sales  year        date\n",
       "0      1  14236.90  2013  2013-01-01\n",
       "1      2   4519.89  2013  2013-02-01\n",
       "2      3  55691.01  2013  2013-03-01\n",
       "3      4  28295.35  2013  2013-04-01\n",
       "4      5  23648.29  2013  2013-05-01"
      ],
      "text/html": "<div>\n<style scoped>\n    .dataframe tbody tr th:only-of-type {\n        vertical-align: middle;\n    }\n\n    .dataframe tbody tr th {\n        vertical-align: top;\n    }\n\n    .dataframe thead th {\n        text-align: right;\n    }\n</style>\n<table border=\"1\" class=\"dataframe\">\n  <thead>\n    <tr style=\"text-align: right;\">\n      <th></th>\n      <th>month</th>\n      <th>sales</th>\n      <th>year</th>\n      <th>date</th>\n    </tr>\n  </thead>\n  <tbody>\n    <tr>\n      <th>0</th>\n      <td>1</td>\n      <td>14236.90</td>\n      <td>2013</td>\n      <td>2013-01-01</td>\n    </tr>\n    <tr>\n      <th>1</th>\n      <td>2</td>\n      <td>4519.89</td>\n      <td>2013</td>\n      <td>2013-02-01</td>\n    </tr>\n    <tr>\n      <th>2</th>\n      <td>3</td>\n      <td>55691.01</td>\n      <td>2013</td>\n      <td>2013-03-01</td>\n    </tr>\n    <tr>\n      <th>3</th>\n      <td>4</td>\n      <td>28295.35</td>\n      <td>2013</td>\n      <td>2013-04-01</td>\n    </tr>\n    <tr>\n      <th>4</th>\n      <td>5</td>\n      <td>23648.29</td>\n      <td>2013</td>\n      <td>2013-05-01</td>\n    </tr>\n  </tbody>\n</table>\n</div>"
     },
     "metadata": {},
     "execution_count": 12
    }
   ],
   "source": [
    "df.head()"
   ]
  },
  {
   "cell_type": "code",
   "execution_count": 13,
   "metadata": {},
   "outputs": [
    {
     "output_type": "execute_result",
     "data": {
      "text/plain": [
       "            sum          mean        max\n",
       "year                                    \n",
       "2013  484247.51  40353.959167   81777.35\n",
       "2014  470532.51  39211.042500   75972.56\n",
       "2015  608473.83  50706.152500   97237.42\n",
       "2016  733947.03  61162.252500  118447.83"
      ],
      "text/html": "<div>\n<style scoped>\n    .dataframe tbody tr th:only-of-type {\n        vertical-align: middle;\n    }\n\n    .dataframe tbody tr th {\n        vertical-align: top;\n    }\n\n    .dataframe thead th {\n        text-align: right;\n    }\n</style>\n<table border=\"1\" class=\"dataframe\">\n  <thead>\n    <tr style=\"text-align: right;\">\n      <th></th>\n      <th>sum</th>\n      <th>mean</th>\n      <th>max</th>\n    </tr>\n    <tr>\n      <th>year</th>\n      <th></th>\n      <th></th>\n      <th></th>\n    </tr>\n  </thead>\n  <tbody>\n    <tr>\n      <th>2013</th>\n      <td>484247.51</td>\n      <td>40353.959167</td>\n      <td>81777.35</td>\n    </tr>\n    <tr>\n      <th>2014</th>\n      <td>470532.51</td>\n      <td>39211.042500</td>\n      <td>75972.56</td>\n    </tr>\n    <tr>\n      <th>2015</th>\n      <td>608473.83</td>\n      <td>50706.152500</td>\n      <td>97237.42</td>\n    </tr>\n    <tr>\n      <th>2016</th>\n      <td>733947.03</td>\n      <td>61162.252500</td>\n      <td>118447.83</td>\n    </tr>\n  </tbody>\n</table>\n</div>"
     },
     "metadata": {},
     "execution_count": 13
    }
   ],
   "source": [
    "df.groupby('year')['sales'].agg(['sum', 'mean', 'max'])"
   ]
  },
  {
   "cell_type": "code",
   "execution_count": 14,
   "metadata": {},
   "outputs": [
    {
     "output_type": "stream",
     "name": "stdout",
     "text": [
      "            sum          mean        max\nyear                                    \n2013  484247.51  40353.959167   81777.35\n2014  470532.51  39211.042500   75972.56\n2015  608473.83  50706.152500   97237.42\n2016  733947.03  61162.252500  118447.83\n"
     ]
    }
   ],
   "source": [
    "print(df.groupby('year')['sales'].agg(['sum', 'mean', 'max']))"
   ]
  },
  {
   "cell_type": "code",
   "execution_count": 15,
   "metadata": {},
   "outputs": [
    {
     "output_type": "execute_result",
     "data": {
      "text/plain": [
       "month\n",
       "1     14236.90\n",
       "2      4519.89\n",
       "3     55691.01\n",
       "4     28295.35\n",
       "5     23648.29\n",
       "6     34595.13\n",
       "7     33946.39\n",
       "8     27909.47\n",
       "9     81777.35\n",
       "10    31453.39\n",
       "11    78628.72\n",
       "12    69545.62\n",
       "Name: sales, dtype: float64"
      ]
     },
     "metadata": {},
     "execution_count": 15
    }
   ],
   "source": [
    "df.query('year == \"2013\"').groupby('month')['sales'].sum()"
   ]
  },
  {
   "cell_type": "code",
   "execution_count": 21,
   "metadata": {},
   "outputs": [
    {
     "output_type": "execute_result",
     "data": {
      "text/plain": [
       "True"
      ]
     },
     "metadata": {},
     "execution_count": 21
    }
   ],
   "source": [
    "2013 in list(df['year'])"
   ]
  },
  {
   "cell_type": "code",
   "execution_count": 24,
   "metadata": {},
   "outputs": [
    {
     "output_type": "stream",
     "name": "stdout",
     "text": [
      "month\n1     14236.90\n2      4519.89\n3     55691.01\n4     28295.35\n5     23648.29\n6     34595.13\n7     33946.39\n8     27909.47\n9     81777.35\n10    31453.39\n11    78628.72\n12    69545.62\nName: sales, dtype: float64\n"
     ]
    }
   ],
   "source": [
    "print(df.query('year == \"2013\"').groupby('month')['sales'].sum())"
   ]
  },
  {
   "cell_type": "code",
   "execution_count": 30,
   "metadata": {},
   "outputs": [],
   "source": [
    "yr_2013 = list(df.query('year == \"2013\"').groupby('month')['sales'].sum())"
   ]
  },
  {
   "cell_type": "code",
   "execution_count": 34,
   "metadata": {},
   "outputs": [
    {
     "output_type": "execute_result",
     "data": {
      "text/plain": [
       "[(1, 14236.9),\n",
       " (2, 4519.89),\n",
       " (3, 55691.01),\n",
       " (4, 28295.35),\n",
       " (5, 23648.29),\n",
       " (6, 34595.13),\n",
       " (7, 33946.39),\n",
       " (8, 27909.47),\n",
       " (9, 81777.35),\n",
       " (10, 31453.39),\n",
       " (11, 78628.72),\n",
       " (12, 69545.62)]"
      ]
     },
     "metadata": {},
     "execution_count": 34
    }
   ],
   "source": [
    "list(enumerate(yr_2013, start=1))"
   ]
  },
  {
   "cell_type": "code",
   "execution_count": null,
   "metadata": {},
   "outputs": [],
   "source": []
  }
 ]
}