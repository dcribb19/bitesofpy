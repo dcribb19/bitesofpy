{
 "metadata": {
  "language_info": {
   "codemirror_mode": {
    "name": "ipython",
    "version": 3
   },
   "file_extension": ".py",
   "mimetype": "text/x-python",
   "name": "python",
   "nbconvert_exporter": "python",
   "pygments_lexer": "ipython3",
   "version": "3.8.3-final"
  },
  "orig_nbformat": 2,
  "kernelspec": {
   "name": "Python 3.8.3 64-bit ('venv')",
   "display_name": "Python 3.8.3 64-bit ('venv')",
   "metadata": {
    "interpreter": {
     "hash": "e19e47f6cc15239d258d3a89e15d85837b2d238137efcf0b03b7955c443c1be0"
    }
   }
  }
 },
 "nbformat": 4,
 "nbformat_minor": 2,
 "cells": [
  {
   "cell_type": "code",
   "execution_count": 1,
   "metadata": {},
   "outputs": [],
   "source": [
    "import pandas as pd\n",
    "\n",
    "data = \"https://s3.us-east-2.amazonaws.com/bites-data/menu.csv\"\n",
    "# load the data in once, functions will use this module object\n",
    "df = pd.read_csv(data)\n",
    "\n",
    "pd.options.mode.chained_assignment = None  # ignore warnings"
   ]
  },
  {
   "cell_type": "code",
   "execution_count": 2,
   "metadata": {},
   "outputs": [
    {
     "output_type": "execute_result",
     "data": {
      "text/plain": [
       "    Category                              Item    Serving Size  Calories  \\\n",
       "0  Breakfast                      Egg McMuffin  4.8 oz (136 g)       300   \n",
       "1  Breakfast                 Egg White Delight  4.8 oz (135 g)       250   \n",
       "2  Breakfast                  Sausage McMuffin  3.9 oz (111 g)       370   \n",
       "3  Breakfast         Sausage McMuffin with Egg  5.7 oz (161 g)       450   \n",
       "4  Breakfast  Sausage McMuffin with Egg Whites  5.7 oz (161 g)       400   \n",
       "\n",
       "   Calories from Fat  Total Fat  Total Fat (% Daily Value)  Saturated Fat  \\\n",
       "0                120       13.0                         20            5.0   \n",
       "1                 70        8.0                         12            3.0   \n",
       "2                200       23.0                         35            8.0   \n",
       "3                250       28.0                         43           10.0   \n",
       "4                210       23.0                         35            8.0   \n",
       "\n",
       "   Saturated Fat (% Daily Value)  Trans Fat  ...  Carbohydrates  \\\n",
       "0                             25        0.0  ...             31   \n",
       "1                             15        0.0  ...             30   \n",
       "2                             42        0.0  ...             29   \n",
       "3                             52        0.0  ...             30   \n",
       "4                             42        0.0  ...             30   \n",
       "\n",
       "   Carbohydrates (% Daily Value)  Dietary Fiber  \\\n",
       "0                             10              4   \n",
       "1                             10              4   \n",
       "2                             10              4   \n",
       "3                             10              4   \n",
       "4                             10              4   \n",
       "\n",
       "   Dietary Fiber (% Daily Value)  Sugars  Protein  Vitamin A (% Daily Value)  \\\n",
       "0                             17       3       17                         10   \n",
       "1                             17       3       18                          6   \n",
       "2                             17       2       14                          8   \n",
       "3                             17       2       21                         15   \n",
       "4                             17       2       21                          6   \n",
       "\n",
       "   Vitamin C (% Daily Value)  Calcium (% Daily Value)  Iron (% Daily Value)  \n",
       "0                          0                       25                    15  \n",
       "1                          0                       25                     8  \n",
       "2                          0                       25                    10  \n",
       "3                          0                       30                    15  \n",
       "4                          0                       25                    10  \n",
       "\n",
       "[5 rows x 24 columns]"
      ],
      "text/html": "<div>\n<style scoped>\n    .dataframe tbody tr th:only-of-type {\n        vertical-align: middle;\n    }\n\n    .dataframe tbody tr th {\n        vertical-align: top;\n    }\n\n    .dataframe thead th {\n        text-align: right;\n    }\n</style>\n<table border=\"1\" class=\"dataframe\">\n  <thead>\n    <tr style=\"text-align: right;\">\n      <th></th>\n      <th>Category</th>\n      <th>Item</th>\n      <th>Serving Size</th>\n      <th>Calories</th>\n      <th>Calories from Fat</th>\n      <th>Total Fat</th>\n      <th>Total Fat (% Daily Value)</th>\n      <th>Saturated Fat</th>\n      <th>Saturated Fat (% Daily Value)</th>\n      <th>Trans Fat</th>\n      <th>...</th>\n      <th>Carbohydrates</th>\n      <th>Carbohydrates (% Daily Value)</th>\n      <th>Dietary Fiber</th>\n      <th>Dietary Fiber (% Daily Value)</th>\n      <th>Sugars</th>\n      <th>Protein</th>\n      <th>Vitamin A (% Daily Value)</th>\n      <th>Vitamin C (% Daily Value)</th>\n      <th>Calcium (% Daily Value)</th>\n      <th>Iron (% Daily Value)</th>\n    </tr>\n  </thead>\n  <tbody>\n    <tr>\n      <th>0</th>\n      <td>Breakfast</td>\n      <td>Egg McMuffin</td>\n      <td>4.8 oz (136 g)</td>\n      <td>300</td>\n      <td>120</td>\n      <td>13.0</td>\n      <td>20</td>\n      <td>5.0</td>\n      <td>25</td>\n      <td>0.0</td>\n      <td>...</td>\n      <td>31</td>\n      <td>10</td>\n      <td>4</td>\n      <td>17</td>\n      <td>3</td>\n      <td>17</td>\n      <td>10</td>\n      <td>0</td>\n      <td>25</td>\n      <td>15</td>\n    </tr>\n    <tr>\n      <th>1</th>\n      <td>Breakfast</td>\n      <td>Egg White Delight</td>\n      <td>4.8 oz (135 g)</td>\n      <td>250</td>\n      <td>70</td>\n      <td>8.0</td>\n      <td>12</td>\n      <td>3.0</td>\n      <td>15</td>\n      <td>0.0</td>\n      <td>...</td>\n      <td>30</td>\n      <td>10</td>\n      <td>4</td>\n      <td>17</td>\n      <td>3</td>\n      <td>18</td>\n      <td>6</td>\n      <td>0</td>\n      <td>25</td>\n      <td>8</td>\n    </tr>\n    <tr>\n      <th>2</th>\n      <td>Breakfast</td>\n      <td>Sausage McMuffin</td>\n      <td>3.9 oz (111 g)</td>\n      <td>370</td>\n      <td>200</td>\n      <td>23.0</td>\n      <td>35</td>\n      <td>8.0</td>\n      <td>42</td>\n      <td>0.0</td>\n      <td>...</td>\n      <td>29</td>\n      <td>10</td>\n      <td>4</td>\n      <td>17</td>\n      <td>2</td>\n      <td>14</td>\n      <td>8</td>\n      <td>0</td>\n      <td>25</td>\n      <td>10</td>\n    </tr>\n    <tr>\n      <th>3</th>\n      <td>Breakfast</td>\n      <td>Sausage McMuffin with Egg</td>\n      <td>5.7 oz (161 g)</td>\n      <td>450</td>\n      <td>250</td>\n      <td>28.0</td>\n      <td>43</td>\n      <td>10.0</td>\n      <td>52</td>\n      <td>0.0</td>\n      <td>...</td>\n      <td>30</td>\n      <td>10</td>\n      <td>4</td>\n      <td>17</td>\n      <td>2</td>\n      <td>21</td>\n      <td>15</td>\n      <td>0</td>\n      <td>30</td>\n      <td>15</td>\n    </tr>\n    <tr>\n      <th>4</th>\n      <td>Breakfast</td>\n      <td>Sausage McMuffin with Egg Whites</td>\n      <td>5.7 oz (161 g)</td>\n      <td>400</td>\n      <td>210</td>\n      <td>23.0</td>\n      <td>35</td>\n      <td>8.0</td>\n      <td>42</td>\n      <td>0.0</td>\n      <td>...</td>\n      <td>30</td>\n      <td>10</td>\n      <td>4</td>\n      <td>17</td>\n      <td>2</td>\n      <td>21</td>\n      <td>6</td>\n      <td>0</td>\n      <td>25</td>\n      <td>10</td>\n    </tr>\n  </tbody>\n</table>\n<p>5 rows × 24 columns</p>\n</div>"
     },
     "metadata": {},
     "execution_count": 2
    }
   ],
   "source": [
    "df.head()"
   ]
  },
  {
   "cell_type": "code",
   "execution_count": 6,
   "metadata": {},
   "outputs": [
    {
     "output_type": "execute_result",
     "data": {
      "text/plain": [
       "'Chicken McNuggets (40 piece)'"
      ]
     },
     "metadata": {},
     "execution_count": 6
    }
   ],
   "source": [
    "df.sort_values('Calories', ascending=False).iloc[0]['Item']"
   ]
  },
  {
   "cell_type": "code",
   "execution_count": 7,
   "metadata": {},
   "outputs": [
    {
     "output_type": "execute_result",
     "data": {
      "text/plain": [
       "                                                  Item  Calories  Protein\n",
       "0                                         Egg McMuffin       300       17\n",
       "1                                    Egg White Delight       250       18\n",
       "2                                     Sausage McMuffin       370       14\n",
       "3                            Sausage McMuffin with Egg       450       21\n",
       "4                     Sausage McMuffin with Egg Whites       400       21\n",
       "..                                                 ...       ...      ...\n",
       "255                 McFlurry with Oreo Cookies (Small)       510       12\n",
       "256                McFlurry with Oreo Cookies (Medium)       690       15\n",
       "257                 McFlurry with Oreo Cookies (Snack)       340        8\n",
       "258  McFlurry with Reese's Peanut Butter Cups (Medium)       810       21\n",
       "259   McFlurry with Reese's Peanut Butter Cups (Snack)       410       10\n",
       "\n",
       "[260 rows x 3 columns]"
      ],
      "text/html": "<div>\n<style scoped>\n    .dataframe tbody tr th:only-of-type {\n        vertical-align: middle;\n    }\n\n    .dataframe tbody tr th {\n        vertical-align: top;\n    }\n\n    .dataframe thead th {\n        text-align: right;\n    }\n</style>\n<table border=\"1\" class=\"dataframe\">\n  <thead>\n    <tr style=\"text-align: right;\">\n      <th></th>\n      <th>Item</th>\n      <th>Calories</th>\n      <th>Protein</th>\n    </tr>\n  </thead>\n  <tbody>\n    <tr>\n      <th>0</th>\n      <td>Egg McMuffin</td>\n      <td>300</td>\n      <td>17</td>\n    </tr>\n    <tr>\n      <th>1</th>\n      <td>Egg White Delight</td>\n      <td>250</td>\n      <td>18</td>\n    </tr>\n    <tr>\n      <th>2</th>\n      <td>Sausage McMuffin</td>\n      <td>370</td>\n      <td>14</td>\n    </tr>\n    <tr>\n      <th>3</th>\n      <td>Sausage McMuffin with Egg</td>\n      <td>450</td>\n      <td>21</td>\n    </tr>\n    <tr>\n      <th>4</th>\n      <td>Sausage McMuffin with Egg Whites</td>\n      <td>400</td>\n      <td>21</td>\n    </tr>\n    <tr>\n      <th>...</th>\n      <td>...</td>\n      <td>...</td>\n      <td>...</td>\n    </tr>\n    <tr>\n      <th>255</th>\n      <td>McFlurry with Oreo Cookies (Small)</td>\n      <td>510</td>\n      <td>12</td>\n    </tr>\n    <tr>\n      <th>256</th>\n      <td>McFlurry with Oreo Cookies (Medium)</td>\n      <td>690</td>\n      <td>15</td>\n    </tr>\n    <tr>\n      <th>257</th>\n      <td>McFlurry with Oreo Cookies (Snack)</td>\n      <td>340</td>\n      <td>8</td>\n    </tr>\n    <tr>\n      <th>258</th>\n      <td>McFlurry with Reese's Peanut Butter Cups (Medium)</td>\n      <td>810</td>\n      <td>21</td>\n    </tr>\n    <tr>\n      <th>259</th>\n      <td>McFlurry with Reese's Peanut Butter Cups (Snack)</td>\n      <td>410</td>\n      <td>10</td>\n    </tr>\n  </tbody>\n</table>\n<p>260 rows × 3 columns</p>\n</div>"
     },
     "metadata": {},
     "execution_count": 7
    }
   ],
   "source": [
    "df[['Item', 'Calories', 'Protein']]"
   ]
  },
  {
   "cell_type": "code",
   "execution_count": 9,
   "metadata": {},
   "outputs": [
    {
     "output_type": "execute_result",
     "data": {
      "text/plain": [
       "                                                  Item  Calories  Protein\n",
       "125                             Diet Dr Pepper (Child)         0        1\n",
       "138                                  Iced Tea (Medium)         0        0\n",
       "137                                   Iced Tea (Small)         0        0\n",
       "136                                Dasani Water Bottle         0        0\n",
       "145                                     Coffee (Small)         0        0\n",
       "..                                                 ...       ...      ...\n",
       "33   Big Breakfast with Hotcakes and Egg Whites (Re...       990       35\n",
       "34   Big Breakfast with Hotcakes and Egg Whites (La...      1050       35\n",
       "31       Big Breakfast with Hotcakes (Regular Biscuit)      1090       36\n",
       "32         Big Breakfast with Hotcakes (Large Biscuit)      1150       36\n",
       "82                        Chicken McNuggets (40 piece)      1880       87\n",
       "\n",
       "[260 rows x 3 columns]"
      ],
      "text/html": "<div>\n<style scoped>\n    .dataframe tbody tr th:only-of-type {\n        vertical-align: middle;\n    }\n\n    .dataframe tbody tr th {\n        vertical-align: top;\n    }\n\n    .dataframe thead th {\n        text-align: right;\n    }\n</style>\n<table border=\"1\" class=\"dataframe\">\n  <thead>\n    <tr style=\"text-align: right;\">\n      <th></th>\n      <th>Item</th>\n      <th>Calories</th>\n      <th>Protein</th>\n    </tr>\n  </thead>\n  <tbody>\n    <tr>\n      <th>125</th>\n      <td>Diet Dr Pepper (Child)</td>\n      <td>0</td>\n      <td>1</td>\n    </tr>\n    <tr>\n      <th>138</th>\n      <td>Iced Tea (Medium)</td>\n      <td>0</td>\n      <td>0</td>\n    </tr>\n    <tr>\n      <th>137</th>\n      <td>Iced Tea (Small)</td>\n      <td>0</td>\n      <td>0</td>\n    </tr>\n    <tr>\n      <th>136</th>\n      <td>Dasani Water Bottle</td>\n      <td>0</td>\n      <td>0</td>\n    </tr>\n    <tr>\n      <th>145</th>\n      <td>Coffee (Small)</td>\n      <td>0</td>\n      <td>0</td>\n    </tr>\n    <tr>\n      <th>...</th>\n      <td>...</td>\n      <td>...</td>\n      <td>...</td>\n    </tr>\n    <tr>\n      <th>33</th>\n      <td>Big Breakfast with Hotcakes and Egg Whites (Re...</td>\n      <td>990</td>\n      <td>35</td>\n    </tr>\n    <tr>\n      <th>34</th>\n      <td>Big Breakfast with Hotcakes and Egg Whites (La...</td>\n      <td>1050</td>\n      <td>35</td>\n    </tr>\n    <tr>\n      <th>31</th>\n      <td>Big Breakfast with Hotcakes (Regular Biscuit)</td>\n      <td>1090</td>\n      <td>36</td>\n    </tr>\n    <tr>\n      <th>32</th>\n      <td>Big Breakfast with Hotcakes (Large Biscuit)</td>\n      <td>1150</td>\n      <td>36</td>\n    </tr>\n    <tr>\n      <th>82</th>\n      <td>Chicken McNuggets (40 piece)</td>\n      <td>1880</td>\n      <td>87</td>\n    </tr>\n  </tbody>\n</table>\n<p>260 rows × 3 columns</p>\n</div>"
     },
     "metadata": {},
     "execution_count": 9
    }
   ],
   "source": [
    "df[['Item', 'Calories', 'Protein']].sort_values('Calories')"
   ]
  },
  {
   "cell_type": "code",
   "execution_count": 14,
   "metadata": {},
   "outputs": [],
   "source": [
    "df_sub = df[df['Calories'] != 0]"
   ]
  },
  {
   "cell_type": "code",
   "execution_count": 17,
   "metadata": {},
   "outputs": [],
   "source": [
    "cal_pro = df_sub[['Item', 'Calories', 'Protein']].sort_values('Calories')"
   ]
  },
  {
   "cell_type": "code",
   "execution_count": 21,
   "metadata": {},
   "outputs": [
    {
     "output_type": "execute_result",
     "data": {
      "text/plain": [
       "Index(['Item', 'Calories', 'Protein'], dtype='object')"
      ]
     },
     "metadata": {},
     "execution_count": 21
    }
   ],
   "source": [
    "cal_pro.columns"
   ]
  },
  {
   "cell_type": "code",
   "execution_count": 22,
   "metadata": {},
   "outputs": [],
   "source": [
    "cal_pro['Pro_Cal_Ratio'] = cal_pro['Protein'] / cal_pro['Calories']"
   ]
  },
  {
   "cell_type": "code",
   "execution_count": 29,
   "metadata": {},
   "outputs": [
    {
     "output_type": "execute_result",
     "data": {
      "text/plain": [
       "['Premium Bacon Ranch Salad with Grilled Chicken',\n",
       " 'Nonfat Latte (Small)',\n",
       " 'Nonfat Latte (Large)',\n",
       " 'Premium Southwest Salad with Grilled Chicken',\n",
       " 'Nonfat Latte (Medium)']"
      ]
     },
     "metadata": {},
     "execution_count": 29
    }
   ],
   "source": [
    "list(cal_pro.sort_values('Pro_Cal_Ratio', ascending=False).head(5)['Item'])"
   ]
  },
  {
   "cell_type": "code",
   "execution_count": 31,
   "metadata": {},
   "outputs": [
    {
     "output_type": "execute_result",
     "data": {
      "text/plain": [
       "array(['Breakfast', 'Beef & Pork', 'Chicken & Fish', 'Salads',\n",
       "       'Snacks & Sides', 'Desserts', 'Beverages', 'Coffee & Tea',\n",
       "       'Smoothies & Shakes'], dtype=object)"
      ]
     },
     "metadata": {},
     "execution_count": 31
    }
   ],
   "source": [
    "df['Category'].unique()"
   ]
  },
  {
   "cell_type": "code",
   "execution_count": 35,
   "metadata": {},
   "outputs": [],
   "source": [
    "no_drinks = df[(df['Category'] != 'Beverages') & (df['Category'] != 'Coffee & Tea')]"
   ]
  }
 ]
}