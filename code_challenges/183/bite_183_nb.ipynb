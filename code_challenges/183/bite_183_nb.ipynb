{
 "metadata": {
  "language_info": {
   "codemirror_mode": {
    "name": "ipython",
    "version": 3
   },
   "file_extension": ".py",
   "mimetype": "text/x-python",
   "name": "python",
   "nbconvert_exporter": "python",
   "pygments_lexer": "ipython3",
   "version": "3.8.3-final"
  },
  "orig_nbformat": 2,
  "kernelspec": {
   "name": "Python 3.8.3 64-bit ('venv')",
   "display_name": "Python 3.8.3 64-bit ('venv')",
   "metadata": {
    "interpreter": {
     "hash": "7362465807241774519b58554affa9d844fa0c2223aa7164781d691cbef8cfc0"
    }
   }
  }
 },
 "nbformat": 4,
 "nbformat_minor": 2,
 "cells": [
  {
   "cell_type": "code",
   "execution_count": 1,
   "metadata": {},
   "outputs": [],
   "source": [
    "import os\n",
    "from urllib.request import urlretrieve\n",
    "\n",
    "import pandas as pd\n",
    "\n",
    "TMP = os.getenv(\"TMP\", \"/tmp\")\n",
    "EXCEL = os.path.join(TMP, 'order_data.xlsx')\n",
    "if not os.path.isfile(EXCEL):\n",
    "    urlretrieve(\n",
    "        'https://bites-data.s3.us-east-2.amazonaws.com/order_data.xlsx',\n",
    "        EXCEL\n",
    "    )\n"
   ]
  },
  {
   "cell_type": "code",
   "execution_count": 7,
   "metadata": {},
   "outputs": [],
   "source": [
    "from datetime import datetime"
   ]
  },
  {
   "cell_type": "code",
   "execution_count": 5,
   "metadata": {},
   "outputs": [],
   "source": [
    "df = pd.read_excel(EXCEL, sheet_name='SalesOrders')"
   ]
  },
  {
   "cell_type": "code",
   "execution_count": 6,
   "metadata": {},
   "outputs": [
    {
     "output_type": "execute_result",
     "data": {
      "text/plain": [
       "   OrderDate   Region      Rep    Item  Units  Unit Cost   Total\n",
       "0 2018-01-06     East    Jones  Pencil     95       1.99  189.05\n",
       "1 2018-01-23  Central   Kivell  Binder     50      19.99  999.50\n",
       "2 2018-02-09  Central  Jardine  Pencil     36       4.99  179.64\n",
       "3 2018-02-26  Central     Gill     Pen     27      19.99  539.73\n",
       "4 2018-03-15     West  Sorvino  Pencil     56       2.99  167.44"
      ],
      "text/html": "<div>\n<style scoped>\n    .dataframe tbody tr th:only-of-type {\n        vertical-align: middle;\n    }\n\n    .dataframe tbody tr th {\n        vertical-align: top;\n    }\n\n    .dataframe thead th {\n        text-align: right;\n    }\n</style>\n<table border=\"1\" class=\"dataframe\">\n  <thead>\n    <tr style=\"text-align: right;\">\n      <th></th>\n      <th>OrderDate</th>\n      <th>Region</th>\n      <th>Rep</th>\n      <th>Item</th>\n      <th>Units</th>\n      <th>Unit Cost</th>\n      <th>Total</th>\n    </tr>\n  </thead>\n  <tbody>\n    <tr>\n      <th>0</th>\n      <td>2018-01-06</td>\n      <td>East</td>\n      <td>Jones</td>\n      <td>Pencil</td>\n      <td>95</td>\n      <td>1.99</td>\n      <td>189.05</td>\n    </tr>\n    <tr>\n      <th>1</th>\n      <td>2018-01-23</td>\n      <td>Central</td>\n      <td>Kivell</td>\n      <td>Binder</td>\n      <td>50</td>\n      <td>19.99</td>\n      <td>999.50</td>\n    </tr>\n    <tr>\n      <th>2</th>\n      <td>2018-02-09</td>\n      <td>Central</td>\n      <td>Jardine</td>\n      <td>Pencil</td>\n      <td>36</td>\n      <td>4.99</td>\n      <td>179.64</td>\n    </tr>\n    <tr>\n      <th>3</th>\n      <td>2018-02-26</td>\n      <td>Central</td>\n      <td>Gill</td>\n      <td>Pen</td>\n      <td>27</td>\n      <td>19.99</td>\n      <td>539.73</td>\n    </tr>\n    <tr>\n      <th>4</th>\n      <td>2018-03-15</td>\n      <td>West</td>\n      <td>Sorvino</td>\n      <td>Pencil</td>\n      <td>56</td>\n      <td>2.99</td>\n      <td>167.44</td>\n    </tr>\n  </tbody>\n</table>\n</div>"
     },
     "metadata": {},
     "execution_count": 6
    }
   ],
   "source": [
    "df.head()"
   ]
  },
  {
   "cell_type": "code",
   "execution_count": 16,
   "metadata": {},
   "outputs": [
    {
     "output_type": "stream",
     "name": "stdout",
     "text": [
      "<class 'pandas.core.frame.DataFrame'>\nRangeIndex: 43 entries, 0 to 42\nData columns (total 7 columns):\n #   Column     Non-Null Count  Dtype         \n---  ------     --------------  -----         \n 0   OrderDate  43 non-null     datetime64[ns]\n 1   Region     43 non-null     object        \n 2   Rep        43 non-null     object        \n 3   Item       43 non-null     object        \n 4   Units      43 non-null     int64         \n 5   Unit Cost  43 non-null     float64       \n 6   Total      43 non-null     float64       \ndtypes: datetime64[ns](1), float64(2), int64(1), object(3)\nmemory usage: 2.5+ KB\n"
     ]
    }
   ],
   "source": [
    "df.info()"
   ]
  },
  {
   "cell_type": "code",
   "execution_count": 25,
   "metadata": {},
   "outputs": [],
   "source": [
    "df['Year'] = pd.DatetimeIndex(df['OrderDate']).year"
   ]
  },
  {
   "cell_type": "code",
   "execution_count": 26,
   "metadata": {},
   "outputs": [
    {
     "output_type": "execute_result",
     "data": {
      "text/plain": [
       "   OrderDate   Region      Rep    Item  Units  Unit Cost   Total  Year\n",
       "0 2018-01-06     East    Jones  Pencil     95       1.99  189.05  2018\n",
       "1 2018-01-23  Central   Kivell  Binder     50      19.99  999.50  2018\n",
       "2 2018-02-09  Central  Jardine  Pencil     36       4.99  179.64  2018\n",
       "3 2018-02-26  Central     Gill     Pen     27      19.99  539.73  2018\n",
       "4 2018-03-15     West  Sorvino  Pencil     56       2.99  167.44  2018"
      ],
      "text/html": "<div>\n<style scoped>\n    .dataframe tbody tr th:only-of-type {\n        vertical-align: middle;\n    }\n\n    .dataframe tbody tr th {\n        vertical-align: top;\n    }\n\n    .dataframe thead th {\n        text-align: right;\n    }\n</style>\n<table border=\"1\" class=\"dataframe\">\n  <thead>\n    <tr style=\"text-align: right;\">\n      <th></th>\n      <th>OrderDate</th>\n      <th>Region</th>\n      <th>Rep</th>\n      <th>Item</th>\n      <th>Units</th>\n      <th>Unit Cost</th>\n      <th>Total</th>\n      <th>Year</th>\n    </tr>\n  </thead>\n  <tbody>\n    <tr>\n      <th>0</th>\n      <td>2018-01-06</td>\n      <td>East</td>\n      <td>Jones</td>\n      <td>Pencil</td>\n      <td>95</td>\n      <td>1.99</td>\n      <td>189.05</td>\n      <td>2018</td>\n    </tr>\n    <tr>\n      <th>1</th>\n      <td>2018-01-23</td>\n      <td>Central</td>\n      <td>Kivell</td>\n      <td>Binder</td>\n      <td>50</td>\n      <td>19.99</td>\n      <td>999.50</td>\n      <td>2018</td>\n    </tr>\n    <tr>\n      <th>2</th>\n      <td>2018-02-09</td>\n      <td>Central</td>\n      <td>Jardine</td>\n      <td>Pencil</td>\n      <td>36</td>\n      <td>4.99</td>\n      <td>179.64</td>\n      <td>2018</td>\n    </tr>\n    <tr>\n      <th>3</th>\n      <td>2018-02-26</td>\n      <td>Central</td>\n      <td>Gill</td>\n      <td>Pen</td>\n      <td>27</td>\n      <td>19.99</td>\n      <td>539.73</td>\n      <td>2018</td>\n    </tr>\n    <tr>\n      <th>4</th>\n      <td>2018-03-15</td>\n      <td>West</td>\n      <td>Sorvino</td>\n      <td>Pencil</td>\n      <td>56</td>\n      <td>2.99</td>\n      <td>167.44</td>\n      <td>2018</td>\n    </tr>\n  </tbody>\n</table>\n</div>"
     },
     "metadata": {},
     "execution_count": 26
    }
   ],
   "source": [
    "df.head()"
   ]
  },
  {
   "cell_type": "code",
   "execution_count": 27,
   "metadata": {},
   "outputs": [
    {
     "output_type": "execute_result",
     "data": {
      "text/plain": [
       "Year  Region \n",
       "2018  Central    3833.51\n",
       "      East       5193.71\n",
       "      West        231.12\n",
       "2019  Central    7305.56\n",
       "      East        808.38\n",
       "      West       2255.60\n",
       "Name: Total, dtype: float64"
      ]
     },
     "metadata": {},
     "execution_count": 27
    }
   ],
   "source": [
    "df.groupby(['Year', 'Region'])['Total'].sum()"
   ]
  },
  {
   "cell_type": "code",
   "execution_count": 72,
   "metadata": {},
   "outputs": [
    {
     "output_type": "execute_result",
     "data": {
      "text/plain": [
       "Rep       Kivell\n",
       "Total    3109.44\n",
       "Name: 5, dtype: object"
      ]
     },
     "metadata": {},
     "execution_count": 72
    }
   ],
   "source": [
    "df.groupby('Rep', as_index=False)['Total'].sum().sort_values(by='Total', ascending=False).iloc[0]"
   ]
  },
  {
   "cell_type": "code",
   "execution_count": 73,
   "metadata": {},
   "outputs": [
    {
     "output_type": "execute_result",
     "data": {
      "text/plain": [
       "Index(['OrderDate', 'Region', 'Rep', 'Item', 'Units', 'Unit Cost', 'Total',\n",
       "       'Year'],\n",
       "      dtype='object')"
      ]
     },
     "metadata": {},
     "execution_count": 73
    }
   ],
   "source": [
    "df.columns"
   ]
  },
  {
   "cell_type": "code",
   "execution_count": 76,
   "metadata": {},
   "outputs": [
    {
     "output_type": "execute_result",
     "data": {
      "text/plain": [
       "Item     Binder\n",
       "Units       722\n",
       "Name: 0, dtype: object"
      ]
     },
     "metadata": {},
     "execution_count": 76
    }
   ],
   "source": [
    "df.groupby('Item', as_index=False)['Units'].sum().sort_values(by='Units', ascending=False).iloc[0]"
   ]
  },
  {
   "cell_type": "code",
   "execution_count": null,
   "metadata": {},
   "outputs": [],
   "source": []
  }
 ]
}