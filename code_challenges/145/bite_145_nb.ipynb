{
 "metadata": {
  "language_info": {
   "codemirror_mode": {
    "name": "ipython",
    "version": 3
   },
   "file_extension": ".py",
   "mimetype": "text/x-python",
   "name": "python",
   "nbconvert_exporter": "python",
   "pygments_lexer": "ipython3",
   "version": "3.8.3-final"
  },
  "orig_nbformat": 2,
  "kernelspec": {
   "name": "Python 3.8.3 64-bit ('venv')",
   "display_name": "Python 3.8.3 64-bit ('venv')",
   "metadata": {
    "interpreter": {
     "hash": "31d1c1c27b9b37385cc4a2b9cbab35c6a161c635f245b9cb0c7584fbbab2372a"
    }
   }
  }
 },
 "nbformat": 4,
 "nbformat_minor": 2,
 "cells": [
  {
   "cell_type": "code",
   "execution_count": 1,
   "metadata": {},
   "outputs": [],
   "source": [
    "from collections import namedtuple\n",
    "from datetime import date\n",
    "import pandas as pd"
   ]
  },
  {
   "cell_type": "code",
   "execution_count": 12,
   "metadata": {},
   "outputs": [],
   "source": [
    "DATA_FILE = \"https://bites-data.s3.us-east-2.amazonaws.com/weather-ann-arbor.csv\"\n",
    "STATION = namedtuple(\"Station\", \"ID Date Value\")\n",
    "df = pd.read_csv(DATA_FILE)"
   ]
  },
  {
   "cell_type": "code",
   "execution_count": 13,
   "metadata": {},
   "outputs": [
    {
     "output_type": "execute_result",
     "data": {
      "text/plain": [
       "            ID        Date Element  Data_Value\n",
       "0  USW00094889  2014-11-12    TMAX          22\n",
       "1  USC00208972  2009-04-29    TMIN          56\n",
       "2  USC00200032  2008-05-26    TMAX         278\n",
       "3  USC00205563  2005-11-11    TMAX         139\n",
       "4  USC00200230  2014-02-27    TMAX        -106"
      ],
      "text/html": "<div>\n<style scoped>\n    .dataframe tbody tr th:only-of-type {\n        vertical-align: middle;\n    }\n\n    .dataframe tbody tr th {\n        vertical-align: top;\n    }\n\n    .dataframe thead th {\n        text-align: right;\n    }\n</style>\n<table border=\"1\" class=\"dataframe\">\n  <thead>\n    <tr style=\"text-align: right;\">\n      <th></th>\n      <th>ID</th>\n      <th>Date</th>\n      <th>Element</th>\n      <th>Data_Value</th>\n    </tr>\n  </thead>\n  <tbody>\n    <tr>\n      <th>0</th>\n      <td>USW00094889</td>\n      <td>2014-11-12</td>\n      <td>TMAX</td>\n      <td>22</td>\n    </tr>\n    <tr>\n      <th>1</th>\n      <td>USC00208972</td>\n      <td>2009-04-29</td>\n      <td>TMIN</td>\n      <td>56</td>\n    </tr>\n    <tr>\n      <th>2</th>\n      <td>USC00200032</td>\n      <td>2008-05-26</td>\n      <td>TMAX</td>\n      <td>278</td>\n    </tr>\n    <tr>\n      <th>3</th>\n      <td>USC00205563</td>\n      <td>2005-11-11</td>\n      <td>TMAX</td>\n      <td>139</td>\n    </tr>\n    <tr>\n      <th>4</th>\n      <td>USC00200230</td>\n      <td>2014-02-27</td>\n      <td>TMAX</td>\n      <td>-106</td>\n    </tr>\n  </tbody>\n</table>\n</div>"
     },
     "metadata": {},
     "execution_count": 13
    }
   ],
   "source": [
    "df.head()"
   ]
  },
  {
   "cell_type": "code",
   "execution_count": 14,
   "metadata": {},
   "outputs": [
    {
     "output_type": "execute_result",
     "data": {
      "text/plain": [
       "Index(['ID', 'Date', 'Element', 'Data_Value'], dtype='object')"
      ]
     },
     "metadata": {},
     "execution_count": 14
    }
   ],
   "source": [
    "df.columns"
   ]
  },
  {
   "cell_type": "code",
   "execution_count": 65,
   "metadata": {},
   "outputs": [
    {
     "output_type": "execute_result",
     "data": {
      "text/plain": [
       "'2015-12-31'"
      ]
     },
     "metadata": {},
     "execution_count": 65
    }
   ],
   "source": [
    "df['Date'].max()"
   ]
  },
  {
   "cell_type": "code",
   "execution_count": 66,
   "metadata": {},
   "outputs": [
    {
     "output_type": "execute_result",
     "data": {
      "text/plain": [
       "'2005-01-01'"
      ]
     },
     "metadata": {},
     "execution_count": 66
    }
   ],
   "source": [
    "df['Date'].min()"
   ]
  },
  {
   "cell_type": "code",
   "execution_count": 67,
   "metadata": {},
   "outputs": [],
   "source": [
    "# Remove Leap Days between min and max df dates. (2005-01-01 to 2015-12-31)\n",
    "df = df[(df['Date'] != '2012-02-29') & (df['Date'] != '2008-02-29')]"
   ]
  },
  {
   "cell_type": "code",
   "execution_count": 24,
   "metadata": {},
   "outputs": [],
   "source": [
    "station_ids = df['ID'].unique()"
   ]
  },
  {
   "cell_type": "code",
   "execution_count": 27,
   "metadata": {},
   "outputs": [
    {
     "output_type": "execute_result",
     "data": {
      "text/plain": [
       "'USW00094889'"
      ]
     },
     "metadata": {},
     "execution_count": 27
    }
   ],
   "source": [
    "station_ids[0]"
   ]
  },
  {
   "cell_type": "code",
   "execution_count": 136,
   "metadata": {},
   "outputs": [
    {
     "output_type": "execute_result",
     "data": {
      "text/plain": [
       "Date        ID         \n",
       "2005-01-01  USC00200032     67\n",
       "            USC00200228    150\n",
       "            USC00200230    122\n",
       "            USC00200842    144\n",
       "            USC00201502    -39\n",
       "                          ... \n",
       "2015-12-31  USC00208972     -6\n",
       "            USW00004848      6\n",
       "            USW00014833    -10\n",
       "            USW00014853     17\n",
       "            USW00094889     -5\n",
       "Name: Data_Value, Length: 83512, dtype: int64"
      ]
     },
     "metadata": {},
     "execution_count": 136
    }
   ],
   "source": [
    "# Extract highest temperatures for each  day / station  between 2005-2015\n",
    "# By Date\n",
    "df.groupby(['Date', 'ID'])['Data_Value'].max()"
   ]
  },
  {
   "cell_type": "code",
   "execution_count": 95,
   "metadata": {},
   "outputs": [
    {
     "output_type": "execute_result",
     "data": {
      "text/plain": [
       "Date        ID         \n",
       "2005-01-01  USC00200032   -28\n",
       "            USC00200228   -39\n",
       "            USC00200230   -39\n",
       "            USC00200842   -22\n",
       "            USC00201502   -39\n",
       "                           ..\n",
       "2015-12-31  USC00208972   -22\n",
       "            USW00004848   -10\n",
       "            USW00014833   -21\n",
       "            USW00014853     0\n",
       "            USW00094889   -21\n",
       "Name: Data_Value, Length: 83512, dtype: int64"
      ]
     },
     "metadata": {},
     "execution_count": 95
    }
   ],
   "source": [
    "# Extract lowest temperatures for each  day / station  between 2005-2015\n",
    "# By Date\n",
    "df.groupby(['Date', 'ID'])['Data_Value'].min()"
   ]
  },
  {
   "cell_type": "code",
   "execution_count": 99,
   "metadata": {},
   "outputs": [
    {
     "output_type": "execute_result",
     "data": {
      "text/plain": [
       "                       Data_Value     \n",
       "                              min  max\n",
       "Date       ID                         \n",
       "2005-01-01 USC00200032        -28   67\n",
       "           USC00200228        -39  150\n",
       "           USC00200230        -39  122\n",
       "           USC00200842        -22  144\n",
       "           USC00201502        -39  -39\n",
       "...                           ...  ...\n",
       "2015-12-31 USC00208972        -22   -6\n",
       "           USW00004848        -10    6\n",
       "           USW00014833        -21  -10\n",
       "           USW00014853          0   17\n",
       "           USW00094889        -21   -5\n",
       "\n",
       "[83512 rows x 2 columns]"
      ],
      "text/html": "<div>\n<style scoped>\n    .dataframe tbody tr th:only-of-type {\n        vertical-align: middle;\n    }\n\n    .dataframe tbody tr th {\n        vertical-align: top;\n    }\n\n    .dataframe thead tr th {\n        text-align: left;\n    }\n\n    .dataframe thead tr:last-of-type th {\n        text-align: right;\n    }\n</style>\n<table border=\"1\" class=\"dataframe\">\n  <thead>\n    <tr>\n      <th></th>\n      <th></th>\n      <th colspan=\"2\" halign=\"left\">Data_Value</th>\n    </tr>\n    <tr>\n      <th></th>\n      <th></th>\n      <th>min</th>\n      <th>max</th>\n    </tr>\n    <tr>\n      <th>Date</th>\n      <th>ID</th>\n      <th></th>\n      <th></th>\n    </tr>\n  </thead>\n  <tbody>\n    <tr>\n      <th rowspan=\"5\" valign=\"top\">2005-01-01</th>\n      <th>USC00200032</th>\n      <td>-28</td>\n      <td>67</td>\n    </tr>\n    <tr>\n      <th>USC00200228</th>\n      <td>-39</td>\n      <td>150</td>\n    </tr>\n    <tr>\n      <th>USC00200230</th>\n      <td>-39</td>\n      <td>122</td>\n    </tr>\n    <tr>\n      <th>USC00200842</th>\n      <td>-22</td>\n      <td>144</td>\n    </tr>\n    <tr>\n      <th>USC00201502</th>\n      <td>-39</td>\n      <td>-39</td>\n    </tr>\n    <tr>\n      <th>...</th>\n      <th>...</th>\n      <td>...</td>\n      <td>...</td>\n    </tr>\n    <tr>\n      <th rowspan=\"5\" valign=\"top\">2015-12-31</th>\n      <th>USC00208972</th>\n      <td>-22</td>\n      <td>-6</td>\n    </tr>\n    <tr>\n      <th>USW00004848</th>\n      <td>-10</td>\n      <td>6</td>\n    </tr>\n    <tr>\n      <th>USW00014833</th>\n      <td>-21</td>\n      <td>-10</td>\n    </tr>\n    <tr>\n      <th>USW00014853</th>\n      <td>0</td>\n      <td>17</td>\n    </tr>\n    <tr>\n      <th>USW00094889</th>\n      <td>-21</td>\n      <td>-5</td>\n    </tr>\n  </tbody>\n</table>\n<p>83512 rows × 2 columns</p>\n</div>"
     },
     "metadata": {},
     "execution_count": 99
    }
   ],
   "source": [
    "# Extract both highest and lowest temperatures for each  day / station  between 2005-2015\n",
    "df.groupby(['Date', 'ID']).agg({'Data_Value': ['min', 'max']})"
   ]
  },
  {
   "cell_type": "code",
   "execution_count": 62,
   "metadata": {},
   "outputs": [],
   "source": [
    "# Highs/Lows for 2015\n",
    "df_2015 = df[df['Date'] >= '2015-01-01']"
   ]
  },
  {
   "cell_type": "code",
   "execution_count": 63,
   "metadata": {},
   "outputs": [],
   "source": [
    "# Highs/Lows 2005-2014\n",
    "df_04_15 = df[df['Date'] < '2015-01-01']"
   ]
  },
  {
   "cell_type": "code",
   "execution_count": 117,
   "metadata": {},
   "outputs": [
    {
     "output_type": "execute_result",
     "data": {
      "text/plain": [
       "                 ID        Date Element  Data_Value\n",
       "18319   USC00207312  2014-01-07    TMIN        -306\n",
       "19030   USC00207320  2005-01-19    TMIN        -300\n",
       "14755   USC00207312  2014-01-08    TMIN        -294\n",
       "75541   USC00207308  2009-01-16    TMIN        -294\n",
       "96531   USC00207312  2014-01-28    TMIN        -294\n",
       "...             ...         ...     ...         ...\n",
       "127802  USC00205822  2012-07-08    TMAX         394\n",
       "150494  USW00014853  2012-07-04    TMAX         400\n",
       "96316   USW00004848  2011-07-21    TMAX         406\n",
       "143703  USW00014853  2012-06-28    TMAX         406\n",
       "130948  USW00014853  2012-07-17    TMAX         406\n",
       "\n",
       "[151328 rows x 4 columns]"
      ],
      "text/html": "<div>\n<style scoped>\n    .dataframe tbody tr th:only-of-type {\n        vertical-align: middle;\n    }\n\n    .dataframe tbody tr th {\n        vertical-align: top;\n    }\n\n    .dataframe thead th {\n        text-align: right;\n    }\n</style>\n<table border=\"1\" class=\"dataframe\">\n  <thead>\n    <tr style=\"text-align: right;\">\n      <th></th>\n      <th>ID</th>\n      <th>Date</th>\n      <th>Element</th>\n      <th>Data_Value</th>\n    </tr>\n  </thead>\n  <tbody>\n    <tr>\n      <th>18319</th>\n      <td>USC00207312</td>\n      <td>2014-01-07</td>\n      <td>TMIN</td>\n      <td>-306</td>\n    </tr>\n    <tr>\n      <th>19030</th>\n      <td>USC00207320</td>\n      <td>2005-01-19</td>\n      <td>TMIN</td>\n      <td>-300</td>\n    </tr>\n    <tr>\n      <th>14755</th>\n      <td>USC00207312</td>\n      <td>2014-01-08</td>\n      <td>TMIN</td>\n      <td>-294</td>\n    </tr>\n    <tr>\n      <th>75541</th>\n      <td>USC00207308</td>\n      <td>2009-01-16</td>\n      <td>TMIN</td>\n      <td>-294</td>\n    </tr>\n    <tr>\n      <th>96531</th>\n      <td>USC00207312</td>\n      <td>2014-01-28</td>\n      <td>TMIN</td>\n      <td>-294</td>\n    </tr>\n    <tr>\n      <th>...</th>\n      <td>...</td>\n      <td>...</td>\n      <td>...</td>\n      <td>...</td>\n    </tr>\n    <tr>\n      <th>127802</th>\n      <td>USC00205822</td>\n      <td>2012-07-08</td>\n      <td>TMAX</td>\n      <td>394</td>\n    </tr>\n    <tr>\n      <th>150494</th>\n      <td>USW00014853</td>\n      <td>2012-07-04</td>\n      <td>TMAX</td>\n      <td>400</td>\n    </tr>\n    <tr>\n      <th>96316</th>\n      <td>USW00004848</td>\n      <td>2011-07-21</td>\n      <td>TMAX</td>\n      <td>406</td>\n    </tr>\n    <tr>\n      <th>143703</th>\n      <td>USW00014853</td>\n      <td>2012-06-28</td>\n      <td>TMAX</td>\n      <td>406</td>\n    </tr>\n    <tr>\n      <th>130948</th>\n      <td>USW00014853</td>\n      <td>2012-07-17</td>\n      <td>TMAX</td>\n      <td>406</td>\n    </tr>\n  </tbody>\n</table>\n<p>151328 rows × 4 columns</p>\n</div>"
     },
     "metadata": {},
     "execution_count": 117
    }
   ],
   "source": [
    "df_04_15.sort_values('Data_Value')"
   ]
  },
  {
   "cell_type": "code",
   "execution_count": 121,
   "metadata": {},
   "outputs": [
    {
     "output_type": "execute_result",
     "data": {
      "text/plain": [
       "ID            USC00207312\n",
       "Date           2014-01-07\n",
       "Element              TMIN\n",
       "Data_Value           -306\n",
       "Name: 18319, dtype: object"
      ]
     },
     "metadata": {},
     "execution_count": 121
    }
   ],
   "source": [
    "df_04_15.sort_values('Data_Value').iloc[0]"
   ]
  },
  {
   "cell_type": "code",
   "execution_count": 167,
   "metadata": {},
   "outputs": [],
   "source": [
    "min_04_15 = df_04_15.sort_values('Data_Value').iloc[0]['Data_Value']"
   ]
  },
  {
   "cell_type": "code",
   "execution_count": 168,
   "metadata": {},
   "outputs": [
    {
     "output_type": "execute_result",
     "data": {
      "text/plain": [
       "                 ID        Date Element  Data_Value\n",
       "127333  USC00208972  2015-02-21    TMIN        -322\n",
       "128105  USC00203712  2015-02-21    TMIN        -322\n",
       "137824  USC00208972  2015-02-20    TMIN        -322\n",
       "140515  USC00201502  2015-02-20    TMIN        -317\n",
       "141374  USW00094889  2015-02-20    TMIN        -343"
      ],
      "text/html": "<div>\n<style scoped>\n    .dataframe tbody tr th:only-of-type {\n        vertical-align: middle;\n    }\n\n    .dataframe tbody tr th {\n        vertical-align: top;\n    }\n\n    .dataframe thead th {\n        text-align: right;\n    }\n</style>\n<table border=\"1\" class=\"dataframe\">\n  <thead>\n    <tr style=\"text-align: right;\">\n      <th></th>\n      <th>ID</th>\n      <th>Date</th>\n      <th>Element</th>\n      <th>Data_Value</th>\n    </tr>\n  </thead>\n  <tbody>\n    <tr>\n      <th>127333</th>\n      <td>USC00208972</td>\n      <td>2015-02-21</td>\n      <td>TMIN</td>\n      <td>-322</td>\n    </tr>\n    <tr>\n      <th>128105</th>\n      <td>USC00203712</td>\n      <td>2015-02-21</td>\n      <td>TMIN</td>\n      <td>-322</td>\n    </tr>\n    <tr>\n      <th>137824</th>\n      <td>USC00208972</td>\n      <td>2015-02-20</td>\n      <td>TMIN</td>\n      <td>-322</td>\n    </tr>\n    <tr>\n      <th>140515</th>\n      <td>USC00201502</td>\n      <td>2015-02-20</td>\n      <td>TMIN</td>\n      <td>-317</td>\n    </tr>\n    <tr>\n      <th>141374</th>\n      <td>USW00094889</td>\n      <td>2015-02-20</td>\n      <td>TMIN</td>\n      <td>-343</td>\n    </tr>\n  </tbody>\n</table>\n</div>"
     },
     "metadata": {},
     "execution_count": 168
    }
   ],
   "source": [
    "df_2015[df_2015['Data_Value'] < min_04_15]"
   ]
  },
  {
   "cell_type": "code",
   "execution_count": 169,
   "metadata": {},
   "outputs": [],
   "source": [
    "max_04_15 = df_04_15.sort_values('Data_Value').iloc[-1]['Data_Value']"
   ]
  },
  {
   "cell_type": "code",
   "execution_count": 170,
   "metadata": {},
   "outputs": [
    {
     "output_type": "execute_result",
     "data": {
      "text/plain": [
       "Empty DataFrame\n",
       "Columns: [ID, Date, Element, Data_Value]\n",
       "Index: []"
      ],
      "text/html": "<div>\n<style scoped>\n    .dataframe tbody tr th:only-of-type {\n        vertical-align: middle;\n    }\n\n    .dataframe tbody tr th {\n        vertical-align: top;\n    }\n\n    .dataframe thead th {\n        text-align: right;\n    }\n</style>\n<table border=\"1\" class=\"dataframe\">\n  <thead>\n    <tr style=\"text-align: right;\">\n      <th></th>\n      <th>ID</th>\n      <th>Date</th>\n      <th>Element</th>\n      <th>Data_Value</th>\n    </tr>\n  </thead>\n  <tbody>\n  </tbody>\n</table>\n</div>"
     },
     "metadata": {},
     "execution_count": 170
    }
   ],
   "source": [
    "df_2015[df_2015['Data_Value'] > max_04_15]"
   ]
  },
  {
   "cell_type": "code",
   "execution_count": 157,
   "metadata": {},
   "outputs": [
    {
     "output_type": "execute_result",
     "data": {
      "text/plain": [
       "                 ID        Date Element  Data_Value\n",
       "130948  USW00014853  2012-07-17    TMAX         406\n",
       "131495  USW00094889  2012-07-17    TMAX         389\n",
       "131646  USW00004848  2012-07-17    TMAX         383\n",
       "130161  USC00201250  2012-07-17    TMAX         378\n",
       "131447  USC00200230  2012-07-17    TMAX         378\n",
       "130954  USW00014833  2012-07-17    TMAX         378\n",
       "131460  USC00208080  2012-07-17    TMAX         372\n",
       "130382  USC00200032  2012-07-17    TMAX         372\n",
       "131620  USC00207308  2012-07-17    TMAX         367\n",
       "131089  USC00200228  2012-07-17    TMAX         361\n",
       "130128  USC00205050  2012-07-17    TMAX         361\n",
       "131135  USC00207312  2012-07-17    TMAX         361\n",
       "131141  USC00207320  2012-07-17    TMAX         356\n",
       "131459  USC00201502  2012-07-17    TMAX         356\n",
       "131400  USC00200842  2012-07-17    TMAX         356\n",
       "131096  USC00202308  2012-07-17    TMAX         356\n",
       "131707  USC00208202  2012-07-17    TMAX         356\n",
       "130130  USC00203712  2012-07-17    TMAX         350\n",
       "130119  USC00208972  2012-07-17    TMAX         350\n",
       "130427  USC00200220  2012-07-17    TMAX         350\n",
       "131430  USC00205451  2012-07-17    TMAX         350\n",
       "131278  USC00205822  2012-07-17    TMAX         333\n",
       "131394  USC00205563  2012-07-17    TMAX         333\n",
       "131446  USC00200230  2012-07-17    TMIN         250\n",
       "131648  USW00004848  2012-07-17    TMIN         239\n",
       "130424  USC00200220  2012-07-17    TMIN         239\n",
       "130955  USW00014833  2012-07-17    TMIN         239\n",
       "130946  USW00014853  2012-07-17    TMIN         233\n",
       "130381  USC00200032  2012-07-17    TMIN         228\n",
       "131393  USC00205563  2012-07-17    TMIN         228\n",
       "131429  USC00205451  2012-07-17    TMIN         217\n",
       "131408  USC00201502  2012-07-17    TMIN         217\n",
       "130140  USC00203712  2012-07-17    TMIN         211\n",
       "131095  USC00202308  2012-07-17    TMIN         211\n",
       "131140  USC00207320  2012-07-17    TMIN         211\n",
       "131461  USC00208080  2012-07-17    TMIN         206\n",
       "131277  USC00205822  2012-07-17    TMIN         200\n",
       "131619  USC00207308  2012-07-17    TMIN         200\n",
       "131112  USC00200228  2012-07-17    TMIN         200\n",
       "131706  USC00208202  2012-07-17    TMIN         200\n",
       "131396  USC00200842  2012-07-17    TMIN         194\n",
       "131493  USW00094889  2012-07-17    TMIN         194\n",
       "130126  USC00205050  2012-07-17    TMIN         194\n",
       "130160  USC00201250  2012-07-17    TMIN         183\n",
       "130118  USC00208972  2012-07-17    TMIN         183\n",
       "131133  USC00207312  2012-07-17    TMIN         172"
      ],
      "text/html": "<div>\n<style scoped>\n    .dataframe tbody tr th:only-of-type {\n        vertical-align: middle;\n    }\n\n    .dataframe tbody tr th {\n        vertical-align: top;\n    }\n\n    .dataframe thead th {\n        text-align: right;\n    }\n</style>\n<table border=\"1\" class=\"dataframe\">\n  <thead>\n    <tr style=\"text-align: right;\">\n      <th></th>\n      <th>ID</th>\n      <th>Date</th>\n      <th>Element</th>\n      <th>Data_Value</th>\n    </tr>\n  </thead>\n  <tbody>\n    <tr>\n      <th>130948</th>\n      <td>USW00014853</td>\n      <td>2012-07-17</td>\n      <td>TMAX</td>\n      <td>406</td>\n    </tr>\n    <tr>\n      <th>131495</th>\n      <td>USW00094889</td>\n      <td>2012-07-17</td>\n      <td>TMAX</td>\n      <td>389</td>\n    </tr>\n    <tr>\n      <th>131646</th>\n      <td>USW00004848</td>\n      <td>2012-07-17</td>\n      <td>TMAX</td>\n      <td>383</td>\n    </tr>\n    <tr>\n      <th>130161</th>\n      <td>USC00201250</td>\n      <td>2012-07-17</td>\n      <td>TMAX</td>\n      <td>378</td>\n    </tr>\n    <tr>\n      <th>131447</th>\n      <td>USC00200230</td>\n      <td>2012-07-17</td>\n      <td>TMAX</td>\n      <td>378</td>\n    </tr>\n    <tr>\n      <th>130954</th>\n      <td>USW00014833</td>\n      <td>2012-07-17</td>\n      <td>TMAX</td>\n      <td>378</td>\n    </tr>\n    <tr>\n      <th>131460</th>\n      <td>USC00208080</td>\n      <td>2012-07-17</td>\n      <td>TMAX</td>\n      <td>372</td>\n    </tr>\n    <tr>\n      <th>130382</th>\n      <td>USC00200032</td>\n      <td>2012-07-17</td>\n      <td>TMAX</td>\n      <td>372</td>\n    </tr>\n    <tr>\n      <th>131620</th>\n      <td>USC00207308</td>\n      <td>2012-07-17</td>\n      <td>TMAX</td>\n      <td>367</td>\n    </tr>\n    <tr>\n      <th>131089</th>\n      <td>USC00200228</td>\n      <td>2012-07-17</td>\n      <td>TMAX</td>\n      <td>361</td>\n    </tr>\n    <tr>\n      <th>130128</th>\n      <td>USC00205050</td>\n      <td>2012-07-17</td>\n      <td>TMAX</td>\n      <td>361</td>\n    </tr>\n    <tr>\n      <th>131135</th>\n      <td>USC00207312</td>\n      <td>2012-07-17</td>\n      <td>TMAX</td>\n      <td>361</td>\n    </tr>\n    <tr>\n      <th>131141</th>\n      <td>USC00207320</td>\n      <td>2012-07-17</td>\n      <td>TMAX</td>\n      <td>356</td>\n    </tr>\n    <tr>\n      <th>131459</th>\n      <td>USC00201502</td>\n      <td>2012-07-17</td>\n      <td>TMAX</td>\n      <td>356</td>\n    </tr>\n    <tr>\n      <th>131400</th>\n      <td>USC00200842</td>\n      <td>2012-07-17</td>\n      <td>TMAX</td>\n      <td>356</td>\n    </tr>\n    <tr>\n      <th>131096</th>\n      <td>USC00202308</td>\n      <td>2012-07-17</td>\n      <td>TMAX</td>\n      <td>356</td>\n    </tr>\n    <tr>\n      <th>131707</th>\n      <td>USC00208202</td>\n      <td>2012-07-17</td>\n      <td>TMAX</td>\n      <td>356</td>\n    </tr>\n    <tr>\n      <th>130130</th>\n      <td>USC00203712</td>\n      <td>2012-07-17</td>\n      <td>TMAX</td>\n      <td>350</td>\n    </tr>\n    <tr>\n      <th>130119</th>\n      <td>USC00208972</td>\n      <td>2012-07-17</td>\n      <td>TMAX</td>\n      <td>350</td>\n    </tr>\n    <tr>\n      <th>130427</th>\n      <td>USC00200220</td>\n      <td>2012-07-17</td>\n      <td>TMAX</td>\n      <td>350</td>\n    </tr>\n    <tr>\n      <th>131430</th>\n      <td>USC00205451</td>\n      <td>2012-07-17</td>\n      <td>TMAX</td>\n      <td>350</td>\n    </tr>\n    <tr>\n      <th>131278</th>\n      <td>USC00205822</td>\n      <td>2012-07-17</td>\n      <td>TMAX</td>\n      <td>333</td>\n    </tr>\n    <tr>\n      <th>131394</th>\n      <td>USC00205563</td>\n      <td>2012-07-17</td>\n      <td>TMAX</td>\n      <td>333</td>\n    </tr>\n    <tr>\n      <th>131446</th>\n      <td>USC00200230</td>\n      <td>2012-07-17</td>\n      <td>TMIN</td>\n      <td>250</td>\n    </tr>\n    <tr>\n      <th>131648</th>\n      <td>USW00004848</td>\n      <td>2012-07-17</td>\n      <td>TMIN</td>\n      <td>239</td>\n    </tr>\n    <tr>\n      <th>130424</th>\n      <td>USC00200220</td>\n      <td>2012-07-17</td>\n      <td>TMIN</td>\n      <td>239</td>\n    </tr>\n    <tr>\n      <th>130955</th>\n      <td>USW00014833</td>\n      <td>2012-07-17</td>\n      <td>TMIN</td>\n      <td>239</td>\n    </tr>\n    <tr>\n      <th>130946</th>\n      <td>USW00014853</td>\n      <td>2012-07-17</td>\n      <td>TMIN</td>\n      <td>233</td>\n    </tr>\n    <tr>\n      <th>130381</th>\n      <td>USC00200032</td>\n      <td>2012-07-17</td>\n      <td>TMIN</td>\n      <td>228</td>\n    </tr>\n    <tr>\n      <th>131393</th>\n      <td>USC00205563</td>\n      <td>2012-07-17</td>\n      <td>TMIN</td>\n      <td>228</td>\n    </tr>\n    <tr>\n      <th>131429</th>\n      <td>USC00205451</td>\n      <td>2012-07-17</td>\n      <td>TMIN</td>\n      <td>217</td>\n    </tr>\n    <tr>\n      <th>131408</th>\n      <td>USC00201502</td>\n      <td>2012-07-17</td>\n      <td>TMIN</td>\n      <td>217</td>\n    </tr>\n    <tr>\n      <th>130140</th>\n      <td>USC00203712</td>\n      <td>2012-07-17</td>\n      <td>TMIN</td>\n      <td>211</td>\n    </tr>\n    <tr>\n      <th>131095</th>\n      <td>USC00202308</td>\n      <td>2012-07-17</td>\n      <td>TMIN</td>\n      <td>211</td>\n    </tr>\n    <tr>\n      <th>131140</th>\n      <td>USC00207320</td>\n      <td>2012-07-17</td>\n      <td>TMIN</td>\n      <td>211</td>\n    </tr>\n    <tr>\n      <th>131461</th>\n      <td>USC00208080</td>\n      <td>2012-07-17</td>\n      <td>TMIN</td>\n      <td>206</td>\n    </tr>\n    <tr>\n      <th>131277</th>\n      <td>USC00205822</td>\n      <td>2012-07-17</td>\n      <td>TMIN</td>\n      <td>200</td>\n    </tr>\n    <tr>\n      <th>131619</th>\n      <td>USC00207308</td>\n      <td>2012-07-17</td>\n      <td>TMIN</td>\n      <td>200</td>\n    </tr>\n    <tr>\n      <th>131112</th>\n      <td>USC00200228</td>\n      <td>2012-07-17</td>\n      <td>TMIN</td>\n      <td>200</td>\n    </tr>\n    <tr>\n      <th>131706</th>\n      <td>USC00208202</td>\n      <td>2012-07-17</td>\n      <td>TMIN</td>\n      <td>200</td>\n    </tr>\n    <tr>\n      <th>131396</th>\n      <td>USC00200842</td>\n      <td>2012-07-17</td>\n      <td>TMIN</td>\n      <td>194</td>\n    </tr>\n    <tr>\n      <th>131493</th>\n      <td>USW00094889</td>\n      <td>2012-07-17</td>\n      <td>TMIN</td>\n      <td>194</td>\n    </tr>\n    <tr>\n      <th>130126</th>\n      <td>USC00205050</td>\n      <td>2012-07-17</td>\n      <td>TMIN</td>\n      <td>194</td>\n    </tr>\n    <tr>\n      <th>130160</th>\n      <td>USC00201250</td>\n      <td>2012-07-17</td>\n      <td>TMIN</td>\n      <td>183</td>\n    </tr>\n    <tr>\n      <th>130118</th>\n      <td>USC00208972</td>\n      <td>2012-07-17</td>\n      <td>TMIN</td>\n      <td>183</td>\n    </tr>\n    <tr>\n      <th>131133</th>\n      <td>USC00207312</td>\n      <td>2012-07-17</td>\n      <td>TMIN</td>\n      <td>172</td>\n    </tr>\n  </tbody>\n</table>\n</div>"
     },
     "metadata": {},
     "execution_count": 157
    }
   ],
   "source": [
    "df_04_15.query('Date == \"2012-07-17\"').sort_values('Data_Value', ascending=False)"
   ]
  },
  {
   "cell_type": "code",
   "execution_count": 162,
   "metadata": {},
   "outputs": [],
   "source": [
    "max_2015 = df_2015.sort_values('Data_Value', ascending=False).iloc[0]"
   ]
  },
  {
   "cell_type": "code",
   "execution_count": 163,
   "metadata": {},
   "outputs": [],
   "source": [
    "min_2015 = df_2015.sort_values('Data_Value').iloc[0]"
   ]
  },
  {
   "cell_type": "code",
   "execution_count": 166,
   "metadata": {},
   "outputs": [
    {
     "output_type": "execute_result",
     "data": {
      "text/plain": [
       "ID            USW00094889\n",
       "Date           2015-02-20\n",
       "Element              TMIN\n",
       "Data_Value           -343\n",
       "Name: 141374, dtype: object"
      ]
     },
     "metadata": {},
     "execution_count": 166
    }
   ],
   "source": [
    "min_2015"
   ]
  },
  {
   "cell_type": "code",
   "execution_count": null,
   "metadata": {},
   "outputs": [],
   "source": []
  }
 ]
}